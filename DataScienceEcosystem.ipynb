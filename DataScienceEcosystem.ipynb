{
 "cells": [
  {
   "cell_type": "markdown",
   "id": "e231569a-47e3-451d-8c44-cb5ffee12539",
   "metadata": {},
   "source": [
    "# Data Science Tools and Ecosystem"
   ]
  },
  {
   "cell_type": "markdown",
   "id": "e7e605cf-8c98-4e62-9545-78337e06aeb1",
   "metadata": {},
   "source": [
    "In this notebook, Data Science Tools and Ecosystem are summarized."
   ]
  },
  {
   "cell_type": "markdown",
   "id": "6a74f725-a572-4b0d-ba23-977d82de74a0",
   "metadata": {},
   "source": [
    "**Objetives:**"
   ]
  },
  {
   "cell_type": "markdown",
   "id": "6056c65b-b911-468d-acf7-b4b92bd35264",
   "metadata": {},
   "source": [
    "- List popular languages for Data Science.\n",
    "- Introduce common libraries used in Data Science.\n",
    "- Showcase open-source development tools for Data Science."
   ]
  },
  {
   "cell_type": "markdown",
   "id": "3974f4fe-01e7-442d-b328-693a20e835ff",
   "metadata": {},
   "source": [
    "Some of the popular languages that Data Scientists use are:\n",
    "1. Python\r\n",
    "2. R\r\n",
    "3. SL\r\n"
   ]
  },
  {
   "cell_type": "markdown",
   "id": "205670b1-eba9-42f0-ac32-1bd63f114b96",
   "metadata": {},
   "source": [
    "Some of the commonly used libraries used by Data Scientists include:\n",
    "1. Pandas\r\n",
    "2. NumPy\r\n",
    "3. Matplotlb\r\n"
   ]
  },
  {
   "cell_type": "markdown",
   "id": "c49e312e-e312-446e-9dbf-6c9b3bc9fd0b",
   "metadata": {},
   "source": [
    "| Data Science Tools |\r\n",
    "|--------------------|\r\n",
    "| Jupyter Notebook   |\r\n",
    "| RStudio            |\r\n",
    "| VS Code            |\r\n"
   ]
  },
  {
   "cell_type": "markdown",
   "id": "73155255-1e11-46d7-a91e-62f714826275",
   "metadata": {},
   "source": [
    "### Below are a few examples of evaluating arithmetic expressions in Python."
   ]
  },
  {
   "cell_type": "code",
   "execution_count": 9,
   "id": "bdc03028-85d8-4b08-ab18-2d3047622e46",
   "metadata": {},
   "outputs": [
    {
     "data": {
      "text/plain": [
       "17"
      ]
     },
     "execution_count": 9,
     "metadata": {},
     "output_type": "execute_result"
    }
   ],
   "source": [
    "# This a simple arithmetic expression to mutiply then add integers.\n",
    "(3 * 4) + 5"
   ]
  },
  {
   "cell_type": "code",
   "execution_count": 11,
   "id": "09d0e11d-1cfd-454c-a694-2a8a5e6fee21",
   "metadata": {},
   "outputs": [
    {
     "data": {
      "text/plain": [
       "3.3333333333333335"
      ]
     },
     "execution_count": 11,
     "metadata": {},
     "output_type": "execute_result"
    }
   ],
   "source": [
    "# This will convert 200 minutes to hours by diving by 60\n",
    "200 / 60"
   ]
  },
  {
   "cell_type": "markdown",
   "id": "112873a7-0237-44c4-a73b-0e87061333ab",
   "metadata": {},
   "source": [
    "## Author\n",
    "Enrique Leal\n"
   ]
  },
  {
   "cell_type": "code",
   "execution_count": null,
   "id": "d928b4fa-5193-4ede-abb6-7c60c71b51a2",
   "metadata": {},
   "outputs": [],
   "source": []
  }
 ],
 "metadata": {
  "kernelspec": {
   "display_name": "Python 3 (ipykernel)",
   "language": "python",
   "name": "python3"
  },
  "language_info": {
   "codemirror_mode": {
    "name": "ipython",
    "version": 3
   },
   "file_extension": ".py",
   "mimetype": "text/x-python",
   "name": "python",
   "nbconvert_exporter": "python",
   "pygments_lexer": "ipython3",
   "version": "3.12.4"
  }
 },
 "nbformat": 4,
 "nbformat_minor": 5
}
